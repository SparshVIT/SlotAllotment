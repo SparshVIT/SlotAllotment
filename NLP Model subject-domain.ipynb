{
 "cells": [
  {
   "cell_type": "code",
   "execution_count": 4,
   "id": "08395a86",
   "metadata": {},
   "outputs": [
    {
     "name": "stdout",
     "output_type": "stream",
     "text": [
      "Accuracy: 0.99\n"
     ]
    }
   ],
   "source": [
    "import pandas as pd\n",
    "import pickle\n",
    "from sklearn.feature_extraction.text import TfidfVectorizer\n",
    "from sklearn.linear_model import LogisticRegression\n",
    "from sklearn.metrics import accuracy_score\n",
    "from flask import Flask, request, jsonify\n",
    "\n",
    "# Load the data\n",
    "data = pd.read_csv(r\"C:\\Users\\hp\\Documents\\Half-dataset.csv\")\n",
    "\n",
    "# Split the data into features and labels\n",
    "X = data[\"Subject\"]\n",
    "y = data[\"Domain\"]\n",
    "\n",
    "# Vectorize the features using TF-IDF\n",
    "vectorizer = TfidfVectorizer()\n",
    "X = vectorizer.fit_transform(X)\n",
    "\n",
    "# Train a logistic regression model on the data\n",
    "model = LogisticRegression()\n",
    "model.fit(X, y)\n",
    "\n",
    "# Save the model and the vectorizer in pickle files\n",
    "pickle.dump(model, open(\"NModel.pkl\", \"wb\"))\n",
    "pickle.dump(vectorizer, open(\"vectorizer.pkl\", \"wb\"))\n",
    "accuracy = model.score(X, y)\n",
    "print(f'Accuracy: {accuracy:.2f}')"
   ]
  },
  {
   "cell_type": "code",
   "execution_count": 9,
   "id": "633f35b4",
   "metadata": {},
   "outputs": [
    {
     "name": "stdout",
     "output_type": "stream",
     "text": [
      "Computer Fundamentals\n"
     ]
    }
   ],
   "source": [
    "model = pickle.load(open(\"NModel.pkl\", \"rb\"))\n",
    "vectorizer = pickle.load(open(\"vectorizer.pkl\", \"rb\"))\n",
    "\n",
    "# Define the subject name\n",
    "subject = \"Operating System\"\n",
    "\n",
    "# Vectorize the subject name using TF-IDF\n",
    "subject = vectorizer.transform([subject])\n",
    "\n",
    "# Predict the domain using the model\n",
    "domain = model.predict(subject)[0]\n",
    "\n",
    "# Print the domain\n",
    "print(domain)"
   ]
  },
  {
   "cell_type": "code",
   "execution_count": null,
   "id": "051578c3",
   "metadata": {},
   "outputs": [],
   "source": []
  }
 ],
 "metadata": {
  "kernelspec": {
   "display_name": "Python 3 (ipykernel)",
   "language": "python",
   "name": "python3"
  },
  "language_info": {
   "codemirror_mode": {
    "name": "ipython",
    "version": 3
   },
   "file_extension": ".py",
   "mimetype": "text/x-python",
   "name": "python",
   "nbconvert_exporter": "python",
   "pygments_lexer": "ipython3",
   "version": "3.9.0"
  }
 },
 "nbformat": 4,
 "nbformat_minor": 5
}
